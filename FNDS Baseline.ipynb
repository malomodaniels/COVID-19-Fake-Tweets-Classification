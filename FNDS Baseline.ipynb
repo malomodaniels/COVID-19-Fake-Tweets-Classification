{
 "cells": [
  {
   "cell_type": "markdown",
   "metadata": {},
   "source": [
    "# PROJECT TITLE: COVID-19 FAKE NEWS DETECTION MODEL"
   ]
  },
  {
   "cell_type": "markdown",
   "metadata": {},
   "source": [
    "### Problem Statement:\n",
    "Fake news intentionally persuades readers to accept biased or untrue beliefs by changing the way people interpret and respond to real news. The process of detecting fake news manually is relatively tedious, hence there is a need to leverage Machine Learning classifiers for this task. Due to its novelty, there are no standardised datasets for fake COVID-19 news detection as existing datasets are either not robust or recent enough for building models to accurately classify COVID-19 news. For instance, Patwa et al., (2020), benchmarked a dataset consisting of 10,700 social media posts and articles that were obtained majorly from sources such as WHO, CDC, Covid India Seva, and Indian Council of Medical Research (ICMR). This leaves out news obtainable from local sources in Nigeria."
   ]
  },
  {
   "cell_type": "markdown",
   "metadata": {},
   "source": [
    "### Aim and Objectives:\n",
    "This study aims to detect fake COVID-19 news using Machine Learning classification baseline algorithms. This will be achieved through the following objectives:\n",
    "1. To scrape verified Twitter handle of health organisations such as WHO, CDC, NCDC using Twitter API for COVID-19 related news and generate data.\n",
    "2. To preprocess the obtained data using Python libraries such as NumPy, Pandas, and Seaborn.\n",
    "3. To use Support Vector Machine (SVM), Logistic Regression, and Decision Tree Machine Learning algorithms for the classification of fake news.\n",
    "4. To compare the performance of these algorithms using the Confusion Matrix and Classification Accuracy performance metrics."
   ]
  },
  {
   "cell_type": "markdown",
   "metadata": {},
   "source": [
    "### Importing Python Libraries"
   ]
  },
  {
   "cell_type": "code",
   "execution_count": 2,
   "metadata": {},
   "outputs": [],
   "source": [
    "import pandas as pd\n",
    "import nltk\n",
    "import re\n",
    "from nltk.corpus import stopwords\n",
    "import matplotlib.pyplot as plt\n",
    "from sklearn.feature_extraction.text import CountVectorizer, TfidfTransformer\n",
    "from sklearn.metrics import classification_report,confusion_matrix\n",
    "from sklearn.metrics import accuracy_score, f1_score, precision_score, recall_score\n",
    "from sklearn.svm import LinearSVC\n",
    "from sklearn import model_selection, svm\n",
    "from sklearn.pipeline import Pipeline\n",
    "from sklearn.linear_model import SGDClassifier, LogisticRegression\n",
    "from sklearn.neural_network import MLPClassifier\n",
    "from joblib import dump, load\n",
    "from sklearn import tree\n",
    "import numpy as np\n",
    "import itertools"
   ]
  },
  {
   "cell_type": "markdown",
   "metadata": {},
   "source": [
    "### Function for plotting Confusion Matrix"
   ]
  },
  {
   "cell_type": "code",
   "execution_count": 3,
   "metadata": {},
   "outputs": [],
   "source": [
    "def plot_confusion_matrix(cm,\n",
    "                          target_names,\n",
    "                          title='Confusion matrix',\n",
    "                          cmap=None,\n",
    "                          normalize=True):\n",
    "    \"\"\"\n",
    "    given a sklearn confusion matrix (cm), make a nice plot\n",
    "\n",
    "    Arguments\n",
    "    ---------\n",
    "    cm:           confusion matrix from sklearn.metrics.confusion_matrix\n",
    "\n",
    "    target_names: given classification classes such as [0, 1, 2]\n",
    "                  the class names, for example: ['high', 'medium', 'low']\n",
    "\n",
    "    title:        the text to display at the top of the matrix\n",
    "\n",
    "    cmap:         the gradient of the values displayed from matplotlib.pyplot.cm\n",
    "                  see http://matplotlib.org/examples/color/colormaps_reference.html\n",
    "                  plt.get_cmap('jet') or plt.cm.Blues\n",
    "\n",
    "    normalize:    If False, plot the raw numbers\n",
    "                  If True, plot the proportions\n",
    "\n",
    "    Usage\n",
    "    -----\n",
    "    plot_confusion_matrix(cm           = cm,                  # confusion matrix created by\n",
    "                                                              # sklearn.metrics.confusion_matrix\n",
    "                          normalize    = True,                # show proportions\n",
    "                          target_names = y_labels_vals,       # list of names of the classes\n",
    "                          title        = best_estimator_name) # title of graph\n",
    "\n",
    "    Citiation\n",
    "    ---------\n",
    "    http://scikit-learn.org/stable/auto_examples/model_selection/plot_confusion_matrix.html\n",
    "\n",
    "    \"\"\"\n",
    "\n",
    "    accuracy = np.trace(cm) / float(np.sum(cm))\n",
    "    misclass = 1 - accuracy\n",
    "\n",
    "    if cmap is None:\n",
    "        cmap = plt.get_cmap('Blues')\n",
    "\n",
    "    plt.figure(figsize=(5, 4))\n",
    "    plt.imshow(cm, interpolation='nearest', cmap=cmap)\n",
    "    plt.title(title)\n",
    "    plt.colorbar()\n",
    "\n",
    "    if target_names is not None:\n",
    "        tick_marks = np.arange(len(target_names))\n",
    "        plt.xticks(tick_marks, target_names, rotation=45)\n",
    "        plt.yticks(tick_marks, target_names)\n",
    "\n",
    "    if normalize:\n",
    "        cm = cm.astype('float') / cm.sum(axis=1)[:, np.newaxis]\n",
    "\n",
    "\n",
    "    thresh = cm.max() / 1.5 if normalize else cm.max() / 2\n",
    "    for i, j in itertools.product(range(cm.shape[0]), range(cm.shape[1])):\n",
    "        if normalize:\n",
    "            plt.text(j, i, \"{:0.4f}\".format(cm[i, j]),\n",
    "                     horizontalalignment=\"center\",\n",
    "                     color=\"white\" if cm[i, j] > thresh else \"black\")\n",
    "        else:\n",
    "            plt.text(j, i, \"{:,}\".format(cm[i, j]),\n",
    "                     horizontalalignment=\"center\",\n",
    "                     color=\"white\" if cm[i, j] > thresh else \"black\")\n",
    "\n",
    "\n",
    "    plt.tight_layout()\n",
    "    plt.ylabel('True label')\n",
    "    #plt.xlabel('Predicted label\\naccuracy={:0.4f}; misclass={:0.4f}'.format(accuracy, misclass))\n",
    "    plt.xlabel('Predicted label')\n",
    "    plt.show()"
   ]
  },
  {
   "cell_type": "markdown",
   "metadata": {},
   "source": [
    "### Importing Datasets\n",
    "- Train: The set of data used for learning, that is, to fit the parameters of the classifier. The model sees and learns from the Train data.\n",
    "- Valid: The set of data - a fragment of Train data - used to tune the parameters of a classifier, for example to choose the number of hidden units in a neural network.\n",
    "- Test: The set of examples - a percentage of original data - used only to assess the performance of a fully-specified classifier. It gives an unbiased evaluation of the model and is used when the model is completely trained."
   ]
  },
  {
   "cell_type": "code",
   "execution_count": 6,
   "metadata": {},
   "outputs": [],
   "source": [
    "Train = pd.read_csv('C:/Users/teedaniels/Desktop/Datasets/Train_Data.csv')\n",
    "Valid = pd.read_csv('C:/Users/teedaniels/Desktop/Datasets/Validation_Data.csv')\n",
    "Test = pd.read_csv('C:/Users/teedaniels/Desktop/Datasets/Test_Data.csv')"
   ]
  },
  {
   "cell_type": "code",
   "execution_count": 7,
   "metadata": {},
   "outputs": [],
   "source": [
    "Train['tweet'] = Train['tweet'].map(lambda x: cleantext(x))\n",
    "Valid['tweet'] = Valid['tweet'].map(lambda x: cleantext(x))\n",
    "Test['tweet'] = Test['tweet'].map(lambda x: cleantext(x))"
   ]
  },
  {
   "cell_type": "markdown",
   "metadata": {},
   "source": [
    "### Data Preprocessing - Handling Stopwords"
   ]
  },
  {
   "cell_type": "code",
   "execution_count": 23,
   "metadata": {},
   "outputs": [],
   "source": [
    "stops = set(stopwords.words(\"english\"))\n",
    "def cleantext(string):\n",
    "    text = string.lower().split()\n",
    "    text = \" \".join(text)\n",
    "    text = re.sub(r\"http(\\S)+\",' ',text)    \n",
    "    text = re.sub(r\"www(\\S)+\",' ',text)\n",
    "    text = re.sub(r\"&\",' and ',text)  \n",
    "    tx = text.replace('&amp',' ')\n",
    "    text = re.sub(r\"[^0-9a-zA-Z]+\",' ',text)\n",
    "    text = text.split()\n",
    "    text = [w for w in text if not w in stops]\n",
    "    text = \" \".join(text)\n",
    "    return text\n",
    "\n",
    "### Data Preprocessing - Handling Stopwords"
   ]
  },
  {
   "cell_type": "markdown",
   "metadata": {},
   "source": [
    "### Function Definition for Performance Metrics"
   ]
  },
  {
   "cell_type": "code",
   "execution_count": 8,
   "metadata": {},
   "outputs": [],
   "source": [
    "def print_metrics(pred,true):\n",
    "    print(confusion_matrix(true,pred))\n",
    "    print(classification_report(true,pred,))\n",
    "    print(\"Accuracy : \", accuracy_score(pred,true))\n",
    "    print(\"Precison : \", precision_score(pred,true, average = 'weighted'))\n",
    "    print(\"Recall : \", recall_score(pred,true, average = 'weighted'))\n",
    "    print(\"F1 : \", f1_score(pred,true, average = 'weighted'))"
   ]
  },
  {
   "cell_type": "code",
   "execution_count": 73,
   "metadata": {},
   "outputs": [],
   "source": [
    "SVM = svm.SVC(C=1.0, kernel='linear', degree=1, gamma='auto')"
   ]
  },
  {
   "cell_type": "markdown",
   "metadata": {},
   "source": [
    "### Support Vector Machine Implementation"
   ]
  },
  {
   "cell_type": "code",
   "execution_count": 20,
   "metadata": {},
   "outputs": [
    {
     "name": "stdout",
     "output_type": "stream",
     "text": [
      "SVM\n",
      "Validation:\n",
      "[[ 981   85]\n",
      " [ 118 1043]]\n",
      "              precision    recall  f1-score   support\n",
      "\n",
      "        fake       0.89      0.92      0.91      1066\n",
      "        real       0.92      0.90      0.91      1161\n",
      "\n",
      "    accuracy                           0.91      2227\n",
      "   macro avg       0.91      0.91      0.91      2227\n",
      "weighted avg       0.91      0.91      0.91      2227\n",
      "\n",
      "Accuracy :  0.9088459811405478\n",
      "Precison :  0.9091704863427963\n",
      "Recall :  0.9088459811405478\n",
      "F1 :  0.9088083473679036\n"
     ]
    },
    {
     "data": {
      "image/png": "[encoded data removed]",
      "text/plain": [
       "<Figure size 360x288 with 2 Axes>"
      ]
     },
     "metadata": {
      "needs_background": "light"
     },
     "output_type": "display_data"
    }
   ],
   "source": [
    "pipeline = Pipeline([\n",
    "        ('bow', CountVectorizer()),\n",
    "        ('tfidf', TfidfTransformer()),  \n",
    "        ('c', LinearSVC())\n",
    "    ])\n",
    "fit = pipeline.fit(Train['tweet'],Train['label'])\n",
    "print('SVM')\n",
    "print ('Validation:')\n",
    "prediction = pipeline.predict(Valid['tweet'])\n",
    "print_metrics(prediction, Valid['label'])\n",
    "\n",
    "plot_confusion_matrix(confusion_matrix(Valid['label'],prediction),target_names=['fake','real'], normalize = False, \\\n",
    "                      title = 'Confusion Matrix of SVM on Validation Data')\n",
    "\n",
    "#val_ori = pd.read_csv('C:/Users/teedaniels/Desktop/Datasets/Validation_Data.csv')\n",
    "#svm_val_misclass_df = val_ori[pred!=Valid['label']]"
   ]
  },
  {
   "cell_type": "markdown",
   "metadata": {},
   "source": [
    "### Logistic Regression Model Implementation"
   ]
  },
  {
   "cell_type": "code",
   "execution_count": 21,
   "metadata": {},
   "outputs": [
    {
     "name": "stdout",
     "output_type": "stream",
     "text": [
      "Logistic Regression\n",
      "Validation:\n",
      "[[ 986   80]\n",
      " [ 140 1021]]\n",
      "              precision    recall  f1-score   support\n",
      "\n",
      "        fake       0.88      0.92      0.90      1066\n",
      "        real       0.93      0.88      0.90      1161\n",
      "\n",
      "    accuracy                           0.90      2227\n",
      "   macro avg       0.90      0.90      0.90      2227\n",
      "weighted avg       0.90      0.90      0.90      2227\n",
      "\n",
      "Accuracy :  0.9012123933542883\n",
      "Precison :  0.9024393030354517\n",
      "Recall :  0.9012123933542883\n",
      "F1 :  0.9011705536498337\n"
     ]
    },
    {
     "data": {
      "image/png": "[encoded data removed]",
      "text/plain": [
       "<Figure size 360x288 with 2 Axes>"
      ]
     },
     "metadata": {
      "needs_background": "light"
     },
     "output_type": "display_data"
    }
   ],
   "source": [
    "pipeline = Pipeline([\n",
    "        ('bow', CountVectorizer()),  \n",
    "        ('tfidf', TfidfTransformer()),  \n",
    "        ('c', LogisticRegression())\n",
    "    ])\n",
    "fit = pipeline.fit(Train['tweet'], Train['label'])\n",
    "print('Logistic Regression')\n",
    "print ('Validation:')\n",
    "prediction = pipeline.predict(Valid['tweet'])\n",
    "\n",
    "print_metrics(prediction,Valid['label'])\n",
    "plot_confusion_matrix(confusion_matrix(Valid['label'],prediction),target_names=['fake','real'], normalize = False, \\\n",
    "                      title = 'Confusion Matrix of LR on Validation Data')"
   ]
  },
  {
   "cell_type": "markdown",
   "metadata": {},
   "source": [
    "### Decision Tress Model Implementation"
   ]
  },
  {
   "cell_type": "code",
   "execution_count": 22,
   "metadata": {},
   "outputs": [
    {
     "name": "stdout",
     "output_type": "stream",
     "text": [
      "Decision Tree\n",
      "Validation:\n",
      "[[878 188]\n",
      " [184 977]]\n",
      "              precision    recall  f1-score   support\n",
      "\n",
      "        fake       0.83      0.82      0.83      1066\n",
      "        real       0.84      0.84      0.84      1161\n",
      "\n",
      "    accuracy                           0.83      2227\n",
      "   macro avg       0.83      0.83      0.83      2227\n",
      "weighted avg       0.83      0.83      0.83      2227\n",
      "\n",
      "Accuracy :  0.8329591378536148\n",
      "Precison :  0.83299124590872\n",
      "Recall :  0.8329591378536148\n",
      "F1 :  0.8329725018569317\n"
     ]
    },
    {
     "data": {
      "image/png": "[encoded data removed]",
      "text/plain": [
       "<Figure size 360x288 with 2 Axes>"
      ]
     },
     "metadata": {
      "needs_background": "light"
     },
     "output_type": "display_data"
    }
   ],
   "source": [
    "pipeline = Pipeline([\n",
    "        ('bow', CountVectorizer()),  \n",
    "        ('tfidf', TfidfTransformer()),  \n",
    "        ('c', tree.DecisionTreeClassifier())\n",
    "    ])\n",
    "fit = pipeline.fit(Train['tweet'],Train['label'])\n",
    "print('Decision Tree')\n",
    "print ('Validation:')\n",
    "prediction = pipeline.predict(Valid['tweet'])\n",
    "\n",
    "print_metrics(prediction, Valid['label'])\n",
    "plot_confusion_matrix(confusion_matrix(Valid['label'], prediction),target_names=['fake','real'], normalize = False, \\\n",
    "                      title = 'Confusion Matrix of DT on Validation Data')"
   ]
  },
  {
   "cell_type": "code",
   "execution_count": 16,
   "metadata": {},
   "outputs": [
    {
     "name": "stdout",
     "output_type": "stream",
     "text": [
      "<class 'pandas.core.frame.DataFrame'>\n",
      "Int64Index: 164 entries, 1 to 2173\n",
      "Data columns (total 3 columns):\n",
      " #   Column  Non-Null Count  Dtype \n",
      "---  ------  --------------  ----- \n",
      " 0   id      164 non-null    int64 \n",
      " 1   tweet   164 non-null    object\n",
      " 2   label   164 non-null    object\n",
      "dtypes: int64(1), object(2)\n",
      "memory usage: 3.8+ KB\n"
     ]
    }
   ],
   "source": [
    "#svm_val_misclass_df.info()"
   ]
  },
  {
   "cell_type": "code",
   "execution_count": 13,
   "metadata": {},
   "outputs": [],
   "source": [
    "#svm_val_misclass_df.to_excel('svm_val_misclassified.xlsx')"
   ]
  },
  {
   "cell_type": "code",
   "execution_count": null,
   "metadata": {},
   "outputs": [],
   "source": []
  }
 ],
 "metadata": {
  "celltoolbar": "Raw Cell Format",
  "kernelspec": {
   "display_name": "Python 3",
   "language": "python",
   "name": "python3"
  },
  "language_info": {
   "codemirror_mode": {
    "name": "ipython",
    "version": 3
   },
   "file_extension": ".py",
   "mimetype": "text/x-python",
   "name": "python",
   "nbconvert_exporter": "python",
   "pygments_lexer": "ipython3",
   "version": "3.8.5"
  }
 },
 "nbformat": 4,
 "nbformat_minor": 2
}
